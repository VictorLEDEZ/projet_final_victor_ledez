{
 "cells": [
  {
   "cell_type": "markdown",
   "metadata": {},
   "source": [
    "<table style=\"width :100%;\">\n",
    "    <td style=\"width : 7.5%;\">\n",
    "        <img style=\"float: left;\n",
    "                width: 75px;\"\n",
    "         src=\"https://upload.wikimedia.org/wikipedia/fr/d/d9/Logo_T%C3%A9l%C3%A9com_ParisTech.svg\" />\n",
    "    </td>\n",
    "    <td style=\"width : 15%;\">\n",
    "        TELECOM PARIS<br />2021/2022<br /><br /> MDI720<br />Mr Francis WOLINSKI\n",
    "    </td>\n",
    "    <td>\n",
    "        <h1><center>KIT DATA<br /><br />Projet final du Kit Data Science 2021</center></h1>\n",
    "    </td>\n",
    "    <td style=\"width : 12.5%;\">\n",
    "        Victor LEDEZ <br />Date TP : 2021/10/26<br /><br /> Date CR : 2021/11/5<br /> Version : 1\n",
    "    </td>\n",
    "</table>"
   ]
  },
  {
   "cell_type": "markdown",
   "metadata": {},
   "source": [
    "Le projet final du Kit Data Science 2021 porte sur les données du **Vendée Globe 2020-2021**.\n",
    "\n",
    "Le projet se déroule **26 octobre au 5 novembre 2021** date limite pour rendre vos projets respectifs.\n",
    "\n",
    "Les données du dernier Vendée Globe sont disponibles sous la forme de fichiers Excel avec les classements fournis plusieurs fois par jour par les organisateurs de la course. Il y a également une page web avec une fiche technique par voilier qui contient des informations techniques et qu'il est possible de rapprocher des classements.\n",
    "\n",
    "Il vous appartient de charger les données en Python, de procéder aux préparations nécessaires et d'effectuer les analyses pertinentes de votre choix.\n",
    "\n",
    "Le rendu sera un notebook Jupyter fourni aux formats ipynb et HTML.\n",
    "\n",
    "**Barème sur 15 points** :\n",
    "\n",
    "- Acquisition et chargement des données : 3 points\n",
    "- Préparation des données : 5 points\n",
    "- Analyses et story telling : 7 points\n",
    "\n",
    "**Exemples de traitements et d'analyses** :\n",
    "\n",
    "- Récupération des fichiers Excel avec les classements\n",
    "  1. Mettre en place une copie locale des fichiers Excel afin de ne pas les recharger à chaque run.\n",
    "  2. Vers la fin de la course le format des fichiers Excel change avec les arrivées des voiliers : il est possible de s'arrêter juste avant.\n",
    "- Extraction des caractéristiques techniques de chacun des voiliers.\n",
    "- Rapprochement des données des voiliers avec celle des classements.\n",
    "- Corrélation et régression linéaire entre le classement (rang) et la vitesse utile (VMG) des voiliers.\n",
    "- Impact de la présence d'un *foil* sur le classement et la vitesse des voiliers.\n",
    "- Visualisation de la distance parcourue par voilier.\n",
    "- Cartes avec les routes d'un ou plusieurs voiliers.\n",
    "- Analyses de séries temporelles.\n",
    "- Application d'algorithmes statistiques ou de machine learning.\n",
    "- etc.\n",
    "\n",
    "**Sources des données**\n",
    "\n",
    "- Page web donnant accès aux fichiers Excel des classements du Vendée Globe : https://www.vendeeglobe.org/fr/classement\n",
    "- Page web avec les fiches techniques des voiliers du Vendée Globe : https://www.vendeeglobe.org/fr/glossaire\n",
    "- Site web donnant accès à des fichiers avec les formes géométriques des côtes : https://www.naturalearthdata.com/ (ou bien utilisez les librairies plotly ou ipyleaflet pour produire des cartes)\n",
    "- etc.\n",
    "\n",
    "**Questions/Réponses**\n",
    "\n",
    "Les questions et réponses seront publiées ci-après au fil de l'eau :\n",
    "\n",
    "1. Qu'est-ce qu'un *foil* ? https://www.vendeeglobe.org/fr/actualites/19755/quels-foils-pour-gagner-le-vendee-globe La présence d'un *foil* est indiqué dans l'attribut \"Nombre de dérives\" dans les fiches techniques des voiliers.\n",
    "2. S'agit-il d'un travail individuel ou collectif ? Il s'agit bien d'un travail individuel.\n",
    "3. Est-il possible de rendre plusieurs notebooks afin de délimiter clairement les différentes étapes du projet ? Tout peut tenir dans un seul notebook mais pourquoi pas.\n",
    "\n",
    "**Avertissement**\n",
    "\n",
    "Vous devez publier votre **notebook exécuté aux formats ipynb et HTML** sur votre github **avant le vendredi 5 novembre 2021 à 23h59** et lorsque c'est fait **envoyer une notification par email avec le lien du projet** à l'adresse `contact(at)yotta-conseil.fr`"
   ]
  },
  {
   "cell_type": "markdown",
   "metadata": {},
   "source": [
    "<hr>\n",
    "\n",
    "#### Modules Imports\n",
    "\n",
    "<hr>"
   ]
  },
  {
   "cell_type": "code",
   "execution_count": null,
   "metadata": {},
   "outputs": [],
   "source": []
  },
  {
   "cell_type": "markdown",
   "metadata": {},
   "source": [
    "<hr>\n",
    "\n",
    "#### Main Variables\n",
    "\n",
    "<hr>"
   ]
  },
  {
   "cell_type": "code",
   "execution_count": 1,
   "metadata": {},
   "outputs": [],
   "source": []
  },
  {
   "cell_type": "markdown",
   "metadata": {},
   "source": [
    "<hr>\n",
    "\n",
    "#### Utils Functions\n",
    "\n",
    "<hr>"
   ]
  },
  {
   "cell_type": "code",
   "execution_count": null,
   "metadata": {},
   "outputs": [],
   "source": []
  }
 ],
 "metadata": {
  "interpreter": {
   "hash": "b3ba2566441a7c06988d0923437866b63cedc61552a5af99d1f4fb67d367b25f"
  },
  "kernelspec": {
   "display_name": "Python 3.8.8 64-bit ('base': conda)",
   "name": "python3"
  },
  "language_info": {
   "name": "python",
   "version": "3.8.8"
  },
  "orig_nbformat": 4
 },
 "nbformat": 4,
 "nbformat_minor": 2
}
